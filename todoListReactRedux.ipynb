{
 "cells": [
  {
   "cell_type": "markdown",
   "metadata": {},
   "source": [
    "# Todo List - React-Redux"
   ]
  },
  {
   "cell_type": "markdown",
   "metadata": {},
   "source": [
    "## Criando a aplicação ReactJs\n",
    "\n",
    "- Primeiro certifique-se que você tenha o Node.js instalado em sua máquina, abra um terminal e execute o comando:\n",
    "\n",
    "    - node --version\n",
    "\n",
    "- Se retornar um erro tente fazer a instalação seguindo as recomendações da página oficial do node em https://nodejs.org/.\n",
    " \n",
    "- Primeiro vamos criar uma aplicação React npx create-react-app [Nome-Aplicação]:\n",
    "    - npx create-react-app todoapp\n",
    "- Agora usando o terminal entre na pasta que contém o nome da aplicação feita no passo anterior.\n",
    "    - cd todoapp [Linux]\n",
    "    - dir todoapp [Windows]\n",
    "- Agora vamos iniciar a aplicação para testar se ocorreu tudo bem.\n",
    "    - npm start"
   ]
  },
  {
   "cell_type": "markdown",
   "metadata": {},
   "source": [
    "## Instalando a biblioteca Redux\n",
    "    - npm install --save redux"
   ]
  },
  {
   "cell_type": "markdown",
   "metadata": {},
   "source": [
    "# Cirando a nova estrutura:\n",
    "\n",
    "#### Nesse momento deve existir essa estrutura de pastas:\n",
    "\n",
    "`\n",
    "todoapp\n",
    "├── README.md\n",
    "├── node_modules\n",
    "├── package.json\n",
    "├── .gitignore\n",
    "├── public\n",
    "│   ├── favicon.ico\n",
    "│   ├── index.html\n",
    "│   └── manifest.json\n",
    "└── src\n",
    "    ├── App.css\n",
    "    ├── App.js\n",
    "    ├── App.test.js\n",
    "    ├── index.css\n",
    "    ├── index.js\n",
    "    ├── logo.svg\n",
    "    └── serviceWorker.js\n",
    "`\n",
    "    \n",
    "#### Remova alguns arquivos para que chegue a essa é a nova estrutura:\n",
    "\n",
    "`\n",
    "todoapp\n",
    "├── README.md\n",
    "├── node_modules\n",
    "├── package.json\n",
    "├── .gitignore\n",
    "├── public\n",
    "│   ├── index.html\n",
    "│   └── manifest.json\n",
    "└── src\n",
    "    ├── index.js\n",
    "    └── serviceWorker.js\n",
    "`\n"
   ]
  },
  {
   "cell_type": "markdown",
   "metadata": {},
   "source": [
    "#### Adicione alguns arquivos, para que você tenha essa estrutura de arquivos.\n",
    "\n",
    "`\n",
    "todoapp\n",
    "├── README.md\n",
    "├── node_modules\n",
    "├── package.json\n",
    "├── .gitignore\n",
    "├── public\n",
    "│   ├── index.html\n",
    "│   └── manifest.json\n",
    "└── src\n",
    "    ├── actions\n",
    "    │   └── index.js\n",
    "    └─ components\n",
    "    │   ├──App.js\n",
    "    │   ├── Footer.js\n",
    "    │   ├── Link.js\n",
    "    │   ├── Todo.js\n",
    "    │   ├── TodoDeleteButton.js\n",
    "    │   └── TodoList.js\n",
    "    ├── containers\n",
    "    │    ├── AddTodo.js\n",
    "    │    ├── FilterLink.js\n",
    "    │     └── VisibleTodo.js\n",
    "    │    \n",
    "    ├── reducers\n",
    "    │    ├── index.js\n",
    "    │    ├── todo.js\n",
    "    │    └── visibilityFilter.js\n",
    "    ├── index.js\n",
    "    └── serviceWorker.js\n",
    "`\n"
   ]
  },
  {
   "cell_type": "markdown",
   "metadata": {},
   "source": [
    "## Agora vamos criar o nosso ponto de entrada da aplicação:\n",
    "\n",
    "### Nesse ponto vamos, criar a nossa loja central, que contém todos os estados da aplicação.\n",
    "###### src/index.js"
   ]
  },
  {
   "cell_type": "code",
   "execution_count": null,
   "metadata": {},
   "outputs": [],
   "source": [
    "import React from 'react'\n",
    "import { render } from 'react-dom'\n",
    "import { createStore } from 'redux'\n",
    "import { Provider } from 'react-redux'\n",
    "import App from './components/App'\n",
    "import rootReducer from './reducers'\n",
    "\n",
    "//Todos os objetos vão ter como origem esse objeto.\n",
    "const store = createStore(rootReducer)\n",
    "\n",
    "render(\n",
    "  <Provider store={store}>\n",
    "    <App />\n",
    "  </Provider>,\n",
    "  document.getElementById('root')\n",
    ")"
   ]
  },
  {
   "cell_type": "markdown",
   "metadata": {},
   "source": [
    "## Vamos criar os nossos componentes:"
   ]
  },
  {
   "cell_type": "markdown",
   "metadata": {},
   "source": [
    "###### src/components/App.js"
   ]
  },
  {
   "cell_type": "code",
   "execution_count": null,
   "metadata": {},
   "outputs": [],
   "source": [
    "import React from 'react'\n",
    "import Footer from './Footer'\n",
    "import AddTodo from '../containers/AddTodo'\n",
    "import VisibleTodoList from '../containers/VisibleTodoList'\n",
    "\n",
    "const App = () => (\n",
    "  <div>\n",
    "    <AddTodo />\n",
    "    <VisibleTodoList />\n",
    "    <Footer />\n",
    "  </div>\n",
    ")\n",
    "\n",
    "export default App"
   ]
  },
  {
   "cell_type": "markdown",
   "metadata": {},
   "source": [
    "###### src/components/Footer.js"
   ]
  },
  {
   "cell_type": "code",
   "execution_count": null,
   "metadata": {},
   "outputs": [],
   "source": [
    "import React from 'react'\n",
    "import FilterLink from '../containers/FilterLink'\n",
    "import { VisibilityFilters } from '../actions'\n",
    "\n",
    "const Footer = () => (\n",
    "  <div>\n",
    "    <span>Show: </span>\n",
    "    <FilterLink filter={VisibilityFilters.SHOW_ALL}>\n",
    "      All\n",
    "    </FilterLink>\n",
    "    <FilterLink filter={VisibilityFilters.SHOW_ACTIVE}>\n",
    "      Active\n",
    "    </FilterLink>\n",
    "    <FilterLink filter={VisibilityFilters.SHOW_COMPLETED}>\n",
    "      Completed\n",
    "    </FilterLink>\n",
    "    <FilterLink filter={VisibilityFilters.SORT_ITENS}>\n",
    "      Sort\n",
    "    </FilterLink>\n",
    "  </div>\n",
    ")\n",
    "\n",
    "export default Footer"
   ]
  },
  {
   "cell_type": "markdown",
   "metadata": {},
   "source": [
    "###### src/components/Link.js"
   ]
  },
  {
   "cell_type": "code",
   "execution_count": null,
   "metadata": {},
   "outputs": [],
   "source": [
    "import React from 'react'\n",
    "import PropTypes from 'prop-types'\n",
    "\n",
    "const Link = ({ active, children, onClick }) => (\n",
    "    <button\n",
    "       onClick={onClick}\n",
    "       disabled={active}\n",
    "       style={{\n",
    "           marginLeft: '4px',\n",
    "       }}\n",
    "    >\n",
    "      {children}\n",
    "    </button>\n",
    ")\n",
    "\n",
    "Link.propTypes = {\n",
    "  active: PropTypes.bool.isRequired,\n",
    "  children: PropTypes.node.isRequired,\n",
    "  onClick: PropTypes.func.isRequired\n",
    "}\n",
    "\n",
    "export default Link"
   ]
  },
  {
   "cell_type": "markdown",
   "metadata": {},
   "source": [
    "###### src/components/Todo.js"
   ]
  },
  {
   "cell_type": "code",
   "execution_count": null,
   "metadata": {},
   "outputs": [],
   "source": [
    "import React from 'react'\n",
    "import PropTypes from 'prop-types'\n",
    "\n",
    "const Todo = ({ onClick, completed, text }) => (\n",
    "  <li\n",
    "    onClick={onClick}\n",
    "    style={{\n",
    "      textDecoration: completed ? 'line-through' : 'none'\n",
    "    }}\n",
    "  >\n",
    "    {text}\n",
    "  </li>\n",
    ")\n",
    "\n",
    "Todo.propTypes = {\n",
    "  onClick: PropTypes.func.isRequired,\n",
    "  completed: PropTypes.bool.isRequired,\n",
    "  text: PropTypes.string.isRequired\n",
    "}\n",
    "\n",
    "export default Todo"
   ]
  },
  {
   "cell_type": "markdown",
   "metadata": {},
   "source": [
    "###### src/components/TodoDeleteButton.js"
   ]
  },
  {
   "cell_type": "code",
   "execution_count": null,
   "metadata": {},
   "outputs": [],
   "source": [
    "import React from 'react'\n",
    "import PropTypes from 'prop-types'\n",
    "\n",
    "const TodoDeleteButton = ({onChange, id}) => (\n",
    "    <div>\n",
    "        <input\n",
    "            type=\"checkbox\"\n",
    "            id={id}\n",
    "            onChange={onChange}\n",
    "        />\n",
    "    </div>\n",
    ")\n",
    "\n",
    "TodoDeleteButton.prototype = {\n",
    "    onChange: PropTypes.func.isRequired,\n",
    "    id : PropTypes.number.isRequired\n",
    "}\n",
    "\n",
    "export default TodoDeleteButton"
   ]
  },
  {
   "cell_type": "markdown",
   "metadata": {},
   "source": [
    "###### src/components/TodoList.js"
   ]
  },
  {
   "cell_type": "code",
   "execution_count": null,
   "metadata": {},
   "outputs": [],
   "source": [
    "import React from 'react'\n",
    "import PropTypes from 'prop-types'\n",
    "import Todo from './Todo'\n",
    "import { deleteTodo } from '../actions'\n",
    "import { connect } from 'react-redux'\n",
    "import TodoDeleteButton from './TodoDeleteButton'\n",
    "\n",
    "\n",
    "const TodoList = ({ todos, toggleTodo,  dispatch  }) => (\n",
    "  <ul>\n",
    "    {todos.map(todo =>\n",
    "      <div key={todo.id}>\n",
    "        <Todo\n",
    "          {...todo}\n",
    "          onClick={() => toggleTodo(todo.id)}\n",
    "        />\n",
    "        <TodoDeleteButton\n",
    "          onChange={() => dispatch(deleteTodo(todo.id))}\n",
    "        />\n",
    "      </div>\n",
    "    )}\n",
    "  </ul>\n",
    ")\n",
    "\n",
    "TodoList.propTypes = {\n",
    "  todos: PropTypes.arrayOf(PropTypes.shape({\n",
    "    id: PropTypes.number.isRequired,\n",
    "    completed: PropTypes.bool.isRequired,\n",
    "    text: PropTypes.string.isRequired\n",
    "  }).isRequired).isRequired,\n",
    "  toggleTodo: PropTypes.func.isRequired\n",
    "}\n",
    "\n",
    "export default connect(deleteTodo)(TodoList)"
   ]
  },
  {
   "cell_type": "markdown",
   "metadata": {},
   "source": [
    "## Vamos criar as nossas actions:\n",
    "\n",
    "### As actions são objetos, que representam uma mensagem, que deve ser enviada a um despachador, os nossos reducer, que serão descritos adiante."
   ]
  },
  {
   "cell_type": "markdown",
   "metadata": {},
   "source": [
    "###### src/actions/index.js"
   ]
  },
  {
   "cell_type": "code",
   "execution_count": null,
   "metadata": {},
   "outputs": [],
   "source": [
    "let nextTodoId = 0\n",
    "\n",
    "export const addTodo = text => ({\n",
    "  type: 'ADD_TODO',\n",
    "  id: nextTodoId++,\n",
    "  text\n",
    "})\n",
    "\n",
    "export const deleteTodo = id => ({\n",
    "  type: 'DELETE_TODO',\n",
    "  id\n",
    "})\n",
    "\n",
    "export const setVisibilityFilter = filter => ({\n",
    "  type: 'SET_VISIBILITY_FILTER',\n",
    "  filter\n",
    "})\n",
    "\n",
    "export const toggleTodo = id => ({\n",
    "  type: 'TOGGLE_TODO',\n",
    "  id\n",
    "})\n",
    "\n",
    "export const VisibilityFilters = {\n",
    "  SHOW_ALL: 'SHOW_ALL',\n",
    "  SHOW_COMPLETED: 'SHOW_COMPLETED',\n",
    "  SHOW_ACTIVE: 'SHOW_ACTIVE',\n",
    "  SORT_ITENS: 'SORT_ITENS',\n",
    "}\n"
   ]
  },
  {
   "cell_type": "markdown",
   "metadata": {},
   "source": [
    "###### Note que esses objetos carregam uma mensagem: [type], essa mensagem é o identificador do objeto, para quem esse deve ser destinado no reducer. "
   ]
  },
  {
   "cell_type": "markdown",
   "metadata": {},
   "source": [
    "## Vamos criar os nossos reducers:\n",
    "\n",
    "### Reducers são funções puras, que calculam o novo estado de um objeto, com base no estado anterior desse objeto."
   ]
  },
  {
   "cell_type": "markdown",
   "metadata": {},
   "source": [
    "###### src/actions/index.js\n",
    "\n",
    "###### Como vamos usar mais de um redutor, então usamos o método contido em {combineReducers}, para juntar os redutores, e garantir que tenhamos uma única fonte de dados, e ainda assim podermos modularizar a aplicação."
   ]
  },
  {
   "cell_type": "code",
   "execution_count": null,
   "metadata": {},
   "outputs": [],
   "source": [
    "import { combineReducers } from 'redux'\n",
    "import todos from './todos'\n",
    "import visibilityFilter from './visibilityFilter'\n",
    "\n",
    "export default combineReducers({\n",
    "  todos,\n",
    "  visibilityFilter\n",
    "})"
   ]
  },
  {
   "cell_type": "markdown",
   "metadata": {},
   "source": [
    "##### Observações: \n",
    " - Note que temos como parâmetro dessa função: \n",
    "     - Estado:\n",
    "         -  Esse que deve conter o estado atual da aplicação.\n",
    "     - Action: \n",
    "         - Essa que contém uma string, que identifica uma ação que deve ser executada pelo redutor, caso essa ação exista.\n",
    "         \n",
    "- E em cada caso temos a transformação para o novo estado da aplicação, que é retornado para a **store**, criada anteriormente."
   ]
  },
  {
   "cell_type": "markdown",
   "metadata": {},
   "source": [
    "###### src/actions/todos.js"
   ]
  },
  {
   "cell_type": "code",
   "execution_count": null,
   "metadata": {},
   "outputs": [],
   "source": [
    "const todos = (state = [], action) => {\n",
    "  switch (action.type) {\n",
    "    case 'ADD_TODO':\n",
    "      console.log('ADD_TODO')\n",
    "      return [\n",
    "        ...state,\n",
    "        {\n",
    "          id: action.id,\n",
    "          text: action.text,\n",
    "          completed: false\n",
    "        }\n",
    "      ]\n",
    "    case 'TOGGLE_TODO':\n",
    "      console.log('TOGGLE_TODO')\n",
    "      return state.map(todo =>\n",
    "        (todo.id === action.id)\n",
    "          ? {...todo, completed: !todo.completed}\n",
    "          : todo\n",
    "      )\n",
    "    case 'DELETE_TODO':    \n",
    "      let newState = []\n",
    "      \n",
    "      state.forEach(todo => {\n",
    "        if (todo.id !== action.id){\n",
    "          newState.push(todo)\n",
    "        }\n",
    "      });\n",
    "      return newState\n",
    "    default:\n",
    "      return state\n",
    "  }\n",
    "}\n",
    "\n",
    "export default todos"
   ]
  },
  {
   "cell_type": "markdown",
   "metadata": {},
   "source": [
    "###### src/actions/visibilityFilter.js"
   ]
  },
  {
   "cell_type": "code",
   "execution_count": null,
   "metadata": {},
   "outputs": [],
   "source": [
    "import { VisibilityFilters } from '../actions'\n",
    "\n",
    "const visibilityFilter = (state = VisibilityFilters.SHOW_ALL, action) => {\n",
    "  switch (action.type) {\n",
    "    case 'SET_VISIBILITY_FILTER':\n",
    "      return action.filter\n",
    "    default:\n",
    "      return state\n",
    "  }\n",
    "}\n",
    "\n",
    "export default visibilityFilter"
   ]
  },
  {
   "cell_type": "markdown",
   "metadata": {},
   "source": [
    "## Vamos criar os nossos containers:\n",
    "\n",
    "### Containers são o elo de ligação entre um componente e um estado, usamos o { connect }, para conectar uma estado a uma propriedade.\n",
    "### O componente **addTodo** é um componente que mistura tanto componente, quanto container, funciona muito bem e é apenas uma decisão de projeto.\n"
   ]
  },
  {
   "cell_type": "markdown",
   "metadata": {},
   "source": [
    "###### src/containers/addTodo.js"
   ]
  },
  {
   "cell_type": "code",
   "execution_count": null,
   "metadata": {},
   "outputs": [],
   "source": [
    "import React from 'react'\n",
    "import { connect } from 'react-redux'\n",
    "import { addTodo } from '../actions'\n",
    "\n",
    "const AddTodo = ({ dispatch }) => {\n",
    "  let input\n",
    "\n",
    "  return (\n",
    "    <div>\n",
    "      <form onSubmit={e => {\n",
    "        e.preventDefault()\n",
    "        if (!input.value.trim()) {\n",
    "          return\n",
    "        }\n",
    "        dispatch(addTodo(input.value))\n",
    "        input.value = ''\n",
    "      }}>\n",
    "        <input ref={node => input = node} />\n",
    "        <button type=\"submit\">\n",
    "          Add Todo\n",
    "        </button>\n",
    "      </form>\n",
    "    </div>\n",
    "  )\n",
    "}\n",
    "\n",
    "export default connect()(AddTodo)"
   ]
  },
  {
   "cell_type": "markdown",
   "metadata": {},
   "source": [
    "###### src/containers/FilterLink.js"
   ]
  },
  {
   "cell_type": "code",
   "execution_count": null,
   "metadata": {},
   "outputs": [],
   "source": [
    "import { connect } from 'react-redux'\n",
    "import { setVisibilityFilter } from '../actions'\n",
    "import Link from '../components/Link'\n",
    "\n",
    "const mapStateToProps = (state, ownProps) => ({\n",
    "  active: ownProps.filter === state.visibilityFilter\n",
    "})\n",
    "\n",
    "const mapDispatchToProps = (dispatch, ownProps) => ({\n",
    "  onClick: () => dispatch(setVisibilityFilter(ownProps.filter))\n",
    "})\n",
    "\n",
    "export default connect(\n",
    "  mapStateToProps,\n",
    "  mapDispatchToProps\n",
    ")(Link)\n"
   ]
  },
  {
   "cell_type": "markdown",
   "metadata": {},
   "source": [
    "###### src/containers/FilterLink.js"
   ]
  },
  {
   "cell_type": "code",
   "execution_count": null,
   "metadata": {},
   "outputs": [],
   "source": [
    "import { connect } from 'react-redux'\n",
    "import { toggleTodo } from '../actions'\n",
    "import TodoList from '../components/TodoList'\n",
    "import { VisibilityFilters } from '../actions'\n",
    "\n",
    "const getVisibleTodos = (todos, filter) => {\n",
    "  switch (filter) {\n",
    "    case VisibilityFilters.SHOW_ALL:\n",
    "      return todos\n",
    "    case VisibilityFilters.SHOW_COMPLETED:\n",
    "      return todos.filter(t => t.completed)\n",
    "    case VisibilityFilters.SHOW_ACTIVE:\n",
    "      return todos.filter(t => !t.completed)\n",
    "    case VisibilityFilters.SORT_ITENS:\n",
    "      return todos.sort( (a , b) =>{\n",
    "        if( a.text < b.text ){\n",
    "          return -1\n",
    "        }else{\n",
    "          return 1\n",
    "        }\n",
    "      })\n",
    "    default:\n",
    "      throw new Error('Unknown filter: ' + filter)\n",
    "  }\n",
    "}\n",
    "\n",
    "const mapStateToProps = state => ({\n",
    "  todos: getVisibleTodos(state.todos, state.visibilityFilter)\n",
    "})\n",
    "\n",
    "const mapDispatchToProps = dispatch => ({\n",
    "  toggleTodo: id => dispatch(toggleTodo(id))\n",
    "})\n",
    "\n",
    "export default connect(\n",
    "  mapStateToProps,\n",
    "  mapDispatchToProps\n",
    ")(TodoList)\n"
   ]
  },
  {
   "cell_type": "markdown",
   "metadata": {},
   "source": [
    "### Experimente executar aplicação \n",
    "    - npm start\n",
    "##### Nesse ponto é possível notar que em momento algum os métodos são invocados diretamente."
   ]
  },
 ],
 "metadata": {
  "kernelspec": {
   "display_name": "Python 3",
   "language": "python",
   "name": "python3"
  },
  "language_info": {
   "codemirror_mode": {
    "name": "ipython",
    "version": 3
   },
   "file_extension": ".py",
   "mimetype": "text/x-python",
   "name": "python",
   "nbconvert_exporter": "python",
   "pygments_lexer": "ipython3",
   "version": "3.7.3"
  }
 },
 "nbformat": 4,
 "nbformat_minor": 4
}
